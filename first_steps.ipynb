{
 "cells": [
  {
   "cell_type": "markdown",
   "id": "53dcc9ca",
   "metadata": {},
   "source": [
    "# Letter Recognition - First Steps"
   ]
  },
  {
   "cell_type": "code",
   "execution_count": 18,
   "id": "43388454",
   "metadata": {},
   "outputs": [],
   "source": [
    "# import idx2numpy for extraction of image data (plus numpy and matplotlib)\n",
    "import idx2numpy\n",
    "import numpy as np\n",
    "import matplotlib.pyplot as plt\n",
    "import pandas as pd"
   ]
  },
  {
   "cell_type": "code",
   "execution_count": 50,
   "id": "5bd31b8e",
   "metadata": {},
   "outputs": [],
   "source": [
    "#read mapping file as dataframe\n",
    "mapping = pd.read_csv(\"data/emnist-balanced-mapping.txt\", sep=\" \", header=None)\n",
    "mapping = mapping.rename(columns={0: \"label\", 1: \"ascii\"})"
   ]
  },
  {
   "cell_type": "code",
   "execution_count": 53,
   "id": "65f32696",
   "metadata": {},
   "outputs": [],
   "source": [
    "#add \"translated\" label as \"char\" variable\n",
    "mapping.loc[:, \"char\"] = mapping.ascii.apply(chr)"
   ]
  },
  {
   "cell_type": "code",
   "execution_count": 54,
   "id": "a0f2f16b",
   "metadata": {
    "collapsed": true
   },
   "outputs": [
    {
     "data": {
      "text/html": [
       "<div>\n",
       "<style scoped>\n",
       "    .dataframe tbody tr th:only-of-type {\n",
       "        vertical-align: middle;\n",
       "    }\n",
       "\n",
       "    .dataframe tbody tr th {\n",
       "        vertical-align: top;\n",
       "    }\n",
       "\n",
       "    .dataframe thead th {\n",
       "        text-align: right;\n",
       "    }\n",
       "</style>\n",
       "<table border=\"1\" class=\"dataframe\">\n",
       "  <thead>\n",
       "    <tr style=\"text-align: right;\">\n",
       "      <th></th>\n",
       "      <th>label</th>\n",
       "      <th>ascii</th>\n",
       "      <th>char</th>\n",
       "    </tr>\n",
       "  </thead>\n",
       "  <tbody>\n",
       "    <tr>\n",
       "      <th>0</th>\n",
       "      <td>0</td>\n",
       "      <td>48</td>\n",
       "      <td>0</td>\n",
       "    </tr>\n",
       "    <tr>\n",
       "      <th>1</th>\n",
       "      <td>1</td>\n",
       "      <td>49</td>\n",
       "      <td>1</td>\n",
       "    </tr>\n",
       "    <tr>\n",
       "      <th>2</th>\n",
       "      <td>2</td>\n",
       "      <td>50</td>\n",
       "      <td>2</td>\n",
       "    </tr>\n",
       "    <tr>\n",
       "      <th>3</th>\n",
       "      <td>3</td>\n",
       "      <td>51</td>\n",
       "      <td>3</td>\n",
       "    </tr>\n",
       "    <tr>\n",
       "      <th>4</th>\n",
       "      <td>4</td>\n",
       "      <td>52</td>\n",
       "      <td>4</td>\n",
       "    </tr>\n",
       "    <tr>\n",
       "      <th>5</th>\n",
       "      <td>5</td>\n",
       "      <td>53</td>\n",
       "      <td>5</td>\n",
       "    </tr>\n",
       "    <tr>\n",
       "      <th>6</th>\n",
       "      <td>6</td>\n",
       "      <td>54</td>\n",
       "      <td>6</td>\n",
       "    </tr>\n",
       "    <tr>\n",
       "      <th>7</th>\n",
       "      <td>7</td>\n",
       "      <td>55</td>\n",
       "      <td>7</td>\n",
       "    </tr>\n",
       "    <tr>\n",
       "      <th>8</th>\n",
       "      <td>8</td>\n",
       "      <td>56</td>\n",
       "      <td>8</td>\n",
       "    </tr>\n",
       "    <tr>\n",
       "      <th>9</th>\n",
       "      <td>9</td>\n",
       "      <td>57</td>\n",
       "      <td>9</td>\n",
       "    </tr>\n",
       "    <tr>\n",
       "      <th>10</th>\n",
       "      <td>10</td>\n",
       "      <td>65</td>\n",
       "      <td>A</td>\n",
       "    </tr>\n",
       "    <tr>\n",
       "      <th>11</th>\n",
       "      <td>11</td>\n",
       "      <td>66</td>\n",
       "      <td>B</td>\n",
       "    </tr>\n",
       "    <tr>\n",
       "      <th>12</th>\n",
       "      <td>12</td>\n",
       "      <td>67</td>\n",
       "      <td>C</td>\n",
       "    </tr>\n",
       "    <tr>\n",
       "      <th>13</th>\n",
       "      <td>13</td>\n",
       "      <td>68</td>\n",
       "      <td>D</td>\n",
       "    </tr>\n",
       "    <tr>\n",
       "      <th>14</th>\n",
       "      <td>14</td>\n",
       "      <td>69</td>\n",
       "      <td>E</td>\n",
       "    </tr>\n",
       "    <tr>\n",
       "      <th>15</th>\n",
       "      <td>15</td>\n",
       "      <td>70</td>\n",
       "      <td>F</td>\n",
       "    </tr>\n",
       "    <tr>\n",
       "      <th>16</th>\n",
       "      <td>16</td>\n",
       "      <td>71</td>\n",
       "      <td>G</td>\n",
       "    </tr>\n",
       "    <tr>\n",
       "      <th>17</th>\n",
       "      <td>17</td>\n",
       "      <td>72</td>\n",
       "      <td>H</td>\n",
       "    </tr>\n",
       "    <tr>\n",
       "      <th>18</th>\n",
       "      <td>18</td>\n",
       "      <td>73</td>\n",
       "      <td>I</td>\n",
       "    </tr>\n",
       "    <tr>\n",
       "      <th>19</th>\n",
       "      <td>19</td>\n",
       "      <td>74</td>\n",
       "      <td>J</td>\n",
       "    </tr>\n",
       "    <tr>\n",
       "      <th>20</th>\n",
       "      <td>20</td>\n",
       "      <td>75</td>\n",
       "      <td>K</td>\n",
       "    </tr>\n",
       "    <tr>\n",
       "      <th>21</th>\n",
       "      <td>21</td>\n",
       "      <td>76</td>\n",
       "      <td>L</td>\n",
       "    </tr>\n",
       "    <tr>\n",
       "      <th>22</th>\n",
       "      <td>22</td>\n",
       "      <td>77</td>\n",
       "      <td>M</td>\n",
       "    </tr>\n",
       "    <tr>\n",
       "      <th>23</th>\n",
       "      <td>23</td>\n",
       "      <td>78</td>\n",
       "      <td>N</td>\n",
       "    </tr>\n",
       "    <tr>\n",
       "      <th>24</th>\n",
       "      <td>24</td>\n",
       "      <td>79</td>\n",
       "      <td>O</td>\n",
       "    </tr>\n",
       "    <tr>\n",
       "      <th>25</th>\n",
       "      <td>25</td>\n",
       "      <td>80</td>\n",
       "      <td>P</td>\n",
       "    </tr>\n",
       "    <tr>\n",
       "      <th>26</th>\n",
       "      <td>26</td>\n",
       "      <td>81</td>\n",
       "      <td>Q</td>\n",
       "    </tr>\n",
       "    <tr>\n",
       "      <th>27</th>\n",
       "      <td>27</td>\n",
       "      <td>82</td>\n",
       "      <td>R</td>\n",
       "    </tr>\n",
       "    <tr>\n",
       "      <th>28</th>\n",
       "      <td>28</td>\n",
       "      <td>83</td>\n",
       "      <td>S</td>\n",
       "    </tr>\n",
       "    <tr>\n",
       "      <th>29</th>\n",
       "      <td>29</td>\n",
       "      <td>84</td>\n",
       "      <td>T</td>\n",
       "    </tr>\n",
       "    <tr>\n",
       "      <th>30</th>\n",
       "      <td>30</td>\n",
       "      <td>85</td>\n",
       "      <td>U</td>\n",
       "    </tr>\n",
       "    <tr>\n",
       "      <th>31</th>\n",
       "      <td>31</td>\n",
       "      <td>86</td>\n",
       "      <td>V</td>\n",
       "    </tr>\n",
       "    <tr>\n",
       "      <th>32</th>\n",
       "      <td>32</td>\n",
       "      <td>87</td>\n",
       "      <td>W</td>\n",
       "    </tr>\n",
       "    <tr>\n",
       "      <th>33</th>\n",
       "      <td>33</td>\n",
       "      <td>88</td>\n",
       "      <td>X</td>\n",
       "    </tr>\n",
       "    <tr>\n",
       "      <th>34</th>\n",
       "      <td>34</td>\n",
       "      <td>89</td>\n",
       "      <td>Y</td>\n",
       "    </tr>\n",
       "    <tr>\n",
       "      <th>35</th>\n",
       "      <td>35</td>\n",
       "      <td>90</td>\n",
       "      <td>Z</td>\n",
       "    </tr>\n",
       "    <tr>\n",
       "      <th>36</th>\n",
       "      <td>36</td>\n",
       "      <td>97</td>\n",
       "      <td>a</td>\n",
       "    </tr>\n",
       "    <tr>\n",
       "      <th>37</th>\n",
       "      <td>37</td>\n",
       "      <td>98</td>\n",
       "      <td>b</td>\n",
       "    </tr>\n",
       "    <tr>\n",
       "      <th>38</th>\n",
       "      <td>38</td>\n",
       "      <td>100</td>\n",
       "      <td>d</td>\n",
       "    </tr>\n",
       "    <tr>\n",
       "      <th>39</th>\n",
       "      <td>39</td>\n",
       "      <td>101</td>\n",
       "      <td>e</td>\n",
       "    </tr>\n",
       "    <tr>\n",
       "      <th>40</th>\n",
       "      <td>40</td>\n",
       "      <td>102</td>\n",
       "      <td>f</td>\n",
       "    </tr>\n",
       "    <tr>\n",
       "      <th>41</th>\n",
       "      <td>41</td>\n",
       "      <td>103</td>\n",
       "      <td>g</td>\n",
       "    </tr>\n",
       "    <tr>\n",
       "      <th>42</th>\n",
       "      <td>42</td>\n",
       "      <td>104</td>\n",
       "      <td>h</td>\n",
       "    </tr>\n",
       "    <tr>\n",
       "      <th>43</th>\n",
       "      <td>43</td>\n",
       "      <td>110</td>\n",
       "      <td>n</td>\n",
       "    </tr>\n",
       "    <tr>\n",
       "      <th>44</th>\n",
       "      <td>44</td>\n",
       "      <td>113</td>\n",
       "      <td>q</td>\n",
       "    </tr>\n",
       "    <tr>\n",
       "      <th>45</th>\n",
       "      <td>45</td>\n",
       "      <td>114</td>\n",
       "      <td>r</td>\n",
       "    </tr>\n",
       "    <tr>\n",
       "      <th>46</th>\n",
       "      <td>46</td>\n",
       "      <td>116</td>\n",
       "      <td>t</td>\n",
       "    </tr>\n",
       "  </tbody>\n",
       "</table>\n",
       "</div>"
      ],
      "text/plain": [
       "    label  ascii char\n",
       "0       0     48    0\n",
       "1       1     49    1\n",
       "2       2     50    2\n",
       "3       3     51    3\n",
       "4       4     52    4\n",
       "5       5     53    5\n",
       "6       6     54    6\n",
       "7       7     55    7\n",
       "8       8     56    8\n",
       "9       9     57    9\n",
       "10     10     65    A\n",
       "11     11     66    B\n",
       "12     12     67    C\n",
       "13     13     68    D\n",
       "14     14     69    E\n",
       "15     15     70    F\n",
       "16     16     71    G\n",
       "17     17     72    H\n",
       "18     18     73    I\n",
       "19     19     74    J\n",
       "20     20     75    K\n",
       "21     21     76    L\n",
       "22     22     77    M\n",
       "23     23     78    N\n",
       "24     24     79    O\n",
       "25     25     80    P\n",
       "26     26     81    Q\n",
       "27     27     82    R\n",
       "28     28     83    S\n",
       "29     29     84    T\n",
       "30     30     85    U\n",
       "31     31     86    V\n",
       "32     32     87    W\n",
       "33     33     88    X\n",
       "34     34     89    Y\n",
       "35     35     90    Z\n",
       "36     36     97    a\n",
       "37     37     98    b\n",
       "38     38    100    d\n",
       "39     39    101    e\n",
       "40     40    102    f\n",
       "41     41    103    g\n",
       "42     42    104    h\n",
       "43     43    110    n\n",
       "44     44    113    q\n",
       "45     45    114    r\n",
       "46     46    116    t"
      ]
     },
     "execution_count": 54,
     "metadata": {},
     "output_type": "execute_result"
    }
   ],
   "source": [
    "mapping"
   ]
  },
  {
   "cell_type": "code",
   "execution_count": 58,
   "id": "c0fef1f0",
   "metadata": {},
   "outputs": [],
   "source": [
    "#use idx method convert_from_file() for extraction into array - separate for train and test\n",
    "train_img = idx2numpy.convert_from_file(\"data/emnist-balanced-train-images-idx3-ubyte\")\n",
    "test_img = idx2numpy.convert_from_file(\"data/emnist-balanced-test-images-idx3-ubyte\")\n"
   ]
  },
  {
   "cell_type": "code",
   "execution_count": 59,
   "id": "41e5a1eb",
   "metadata": {},
   "outputs": [],
   "source": [
    "#same for the labels files\n",
    "train_lab = idx2numpy.convert_from_file(\"data/emnist-balanced-train-labels-idx1-ubyte\")\n",
    "test_lab = idx2numpy.convert_from_file(\"data/emnist-balanced-test-labels-idx1-ubyte\")"
   ]
  },
  {
   "cell_type": "code",
   "execution_count": 60,
   "id": "0906e6b7",
   "metadata": {},
   "outputs": [],
   "source": [
    "#normalize image data and reshape image data for the channels dimension\n",
    "\n",
    "train_img = np.reshape(train_img, (-1, 28, 28, 1))/255\n",
    "test_img = np.reshape(test_img, (-1, 28, 28, 1))/255"
   ]
  },
  {
   "cell_type": "code",
   "execution_count": 70,
   "id": "03355b40",
   "metadata": {},
   "outputs": [],
   "source": [
    "#encode the label data\n",
    "from tensorflow.keras.utils import to_categorical\n",
    "train_lab_enc = to_categorical(train_lab)\n",
    "test_lab_enc = to_categorical(test_lab)"
   ]
  },
  {
   "cell_type": "markdown",
   "id": "1577b494",
   "metadata": {},
   "source": [
    "# First Model"
   ]
  },
  {
   "cell_type": "code",
   "execution_count": 63,
   "id": "32ff4082",
   "metadata": {},
   "outputs": [
    {
     "name": "stderr",
     "output_type": "stream",
     "text": [
      "2023-07-12 14:56:31.945546: I tensorflow/core/platform/cpu_feature_guard.cc:193] This TensorFlow binary is optimized with oneAPI Deep Neural Network Library (oneDNN) to use the following CPU instructions in performance-critical operations:  AVX2 FMA\n",
      "To enable them in other operations, rebuild TensorFlow with the appropriate compiler flags.\n",
      "2023-07-12 14:56:32.449188: W tensorflow/stream_executor/platform/default/dso_loader.cc:64] Could not load dynamic library 'libcudart.so.11.0'; dlerror: libcudart.so.11.0: cannot open shared object file: No such file or directory\n",
      "2023-07-12 14:56:32.449237: I tensorflow/stream_executor/cuda/cudart_stub.cc:29] Ignore above cudart dlerror if you do not have a GPU set up on your machine.\n",
      "2023-07-12 14:56:32.508272: E tensorflow/stream_executor/cuda/cuda_blas.cc:2981] Unable to register cuBLAS factory: Attempting to register factory for plugin cuBLAS when one has already been registered\n",
      "2023-07-12 14:56:34.030844: W tensorflow/stream_executor/platform/default/dso_loader.cc:64] Could not load dynamic library 'libnvinfer.so.7'; dlerror: libnvinfer.so.7: cannot open shared object file: No such file or directory\n",
      "2023-07-12 14:56:34.031819: W tensorflow/stream_executor/platform/default/dso_loader.cc:64] Could not load dynamic library 'libnvinfer_plugin.so.7'; dlerror: libnvinfer_plugin.so.7: cannot open shared object file: No such file or directory\n",
      "2023-07-12 14:56:34.031834: W tensorflow/compiler/tf2tensorrt/utils/py_utils.cc:38] TF-TRT Warning: Cannot dlopen some TensorRT libraries. If you would like to use Nvidia GPU with TensorRT, please make sure the missing libraries mentioned above are installed properly.\n"
     ]
    }
   ],
   "source": [
    "from tensorflow.keras import layers\n",
    "from tensorflow.keras import models"
   ]
  },
  {
   "cell_type": "code",
   "execution_count": null,
   "id": "d604fbe6",
   "metadata": {},
   "outputs": [],
   "source": []
  },
  {
   "cell_type": "code",
   "execution_count": 64,
   "id": "e5d31cbb",
   "metadata": {},
   "outputs": [],
   "source": [
    "#set up model via function\n",
    "def initialize_model():\n",
    "\n",
    "    model = models.Sequential()\n",
    "\n",
    "    ### First Convolution & MaxPooling\n",
    "    model.add(layers.Conv2D(8, (4,4), input_shape=(28,28,1), activation=\"relu\", padding=\"same\"))\n",
    "    model.add(layers.MaxPool2D(pool_size=(2,2)))\n",
    "    \n",
    "    model.add(layers.Conv2D(16, (3,3), activation=\"relu\"))\n",
    "    model.add(layers.MaxPool2D(pool_size=(2,2)))\n",
    "    \n",
    "    model.add(layers.Flatten())\n",
    "    \n",
    "    model.add(layers.Dense(47, activation=\"relu\"))\n",
    "    \n",
    "    model.add(layers.Dense(47, activation=\"softmax\"))\n",
    "    \n",
    "    model.compile(optimizer=\"adam\", loss=\"categorical_crossentropy\", metrics=[\"accuracy\"])\n",
    "    \n",
    "    return model"
   ]
  },
  {
   "cell_type": "code",
   "execution_count": 65,
   "id": "baaad041",
   "metadata": {},
   "outputs": [],
   "source": [
    "from tensorflow.keras.callbacks import EarlyStopping"
   ]
  },
  {
   "cell_type": "code",
   "execution_count": 66,
   "id": "70f60d37",
   "metadata": {},
   "outputs": [],
   "source": [
    "es = EarlyStopping(patience=20, restore_best_weights=True)"
   ]
  },
  {
   "cell_type": "code",
   "execution_count": 67,
   "id": "02b7693b",
   "metadata": {},
   "outputs": [
    {
     "name": "stderr",
     "output_type": "stream",
     "text": [
      "2023-07-12 15:03:36.771684: W tensorflow/stream_executor/platform/default/dso_loader.cc:64] Could not load dynamic library 'libcuda.so.1'; dlerror: libcuda.so.1: cannot open shared object file: No such file or directory\n",
      "2023-07-12 15:03:36.772113: W tensorflow/stream_executor/cuda/cuda_driver.cc:263] failed call to cuInit: UNKNOWN ERROR (303)\n",
      "2023-07-12 15:03:36.772451: I tensorflow/stream_executor/cuda/cuda_diagnostics.cc:156] kernel driver does not appear to be running on this host (LAPTOP-VTQ1TRPN): /proc/driver/nvidia/version does not exist\n",
      "2023-07-12 15:03:36.773629: I tensorflow/core/platform/cpu_feature_guard.cc:193] This TensorFlow binary is optimized with oneAPI Deep Neural Network Library (oneDNN) to use the following CPU instructions in performance-critical operations:  AVX2 FMA\n",
      "To enable them in other operations, rebuild TensorFlow with the appropriate compiler flags.\n"
     ]
    }
   ],
   "source": [
    "mod = initialize_model()"
   ]
  },
  {
   "cell_type": "code",
   "execution_count": 71,
   "id": "4a21e032",
   "metadata": {},
   "outputs": [
    {
     "name": "stdout",
     "output_type": "stream",
     "text": [
      "Epoch 1/5\n"
     ]
    },
    {
     "name": "stderr",
     "output_type": "stream",
     "text": [
      "2023-07-12 15:08:44.974161: W tensorflow/core/framework/cpu_allocator_impl.cc:82] Allocation of 282992640 exceeds 10% of free system memory.\n"
     ]
    },
    {
     "name": "stdout",
     "output_type": "stream",
     "text": [
      "2820/2820 [==============================] - 23s 8ms/step - loss: 0.9549 - accuracy: 0.7105 - val_loss: 0.5908 - val_accuracy: 0.8050\n",
      "Epoch 2/5\n",
      "2820/2820 [==============================] - 23s 8ms/step - loss: 0.5389 - accuracy: 0.8210 - val_loss: 0.5059 - val_accuracy: 0.8277\n",
      "Epoch 3/5\n",
      "2820/2820 [==============================] - 23s 8ms/step - loss: 0.4676 - accuracy: 0.8419 - val_loss: 0.4649 - val_accuracy: 0.8403\n",
      "Epoch 4/5\n",
      "2820/2820 [==============================] - 23s 8ms/step - loss: 0.4288 - accuracy: 0.8535 - val_loss: 0.4402 - val_accuracy: 0.8477\n",
      "Epoch 5/5\n",
      "2820/2820 [==============================] - 25s 9ms/step - loss: 0.4013 - accuracy: 0.8633 - val_loss: 0.4168 - val_accuracy: 0.8567\n"
     ]
    },
    {
     "data": {
      "text/plain": [
       "<keras.callbacks.History at 0x7f85a1742f50>"
      ]
     },
     "execution_count": 71,
     "metadata": {},
     "output_type": "execute_result"
    }
   ],
   "source": [
    "mod.fit(train_img, train_lab_enc, validation_split=0.2, callbacks=[es], epochs=5, batch_size=32)"
   ]
  },
  {
   "cell_type": "code",
   "execution_count": 73,
   "id": "29eecc94",
   "metadata": {},
   "outputs": [
    {
     "name": "stdout",
     "output_type": "stream",
     "text": [
      "588/588 [==============================] - 2s 3ms/step\n"
     ]
    }
   ],
   "source": [
    "test_pred = mod.predict(test_img)"
   ]
  },
  {
   "cell_type": "code",
   "execution_count": 75,
   "id": "37c39dda",
   "metadata": {},
   "outputs": [
    {
     "data": {
      "text/plain": [
       "(18800, 47)"
      ]
     },
     "execution_count": 75,
     "metadata": {},
     "output_type": "execute_result"
    }
   ],
   "source": [
    "test_pred.shape"
   ]
  },
  {
   "cell_type": "code",
   "execution_count": 88,
   "id": "cd89f32e",
   "metadata": {},
   "outputs": [],
   "source": [
    "pred_cat = np.argmax(test_pred, axis=1)"
   ]
  },
  {
   "cell_type": "code",
   "execution_count": 89,
   "id": "804053de",
   "metadata": {},
   "outputs": [
    {
     "data": {
      "text/plain": [
       "(18800,)"
      ]
     },
     "execution_count": 89,
     "metadata": {},
     "output_type": "execute_result"
    }
   ],
   "source": [
    "pred_cat.shape"
   ]
  },
  {
   "cell_type": "code",
   "execution_count": 90,
   "id": "49760675",
   "metadata": {},
   "outputs": [
    {
     "data": {
      "text/plain": [
       "array([41, 39,  9, ...,  1, 26, 33])"
      ]
     },
     "execution_count": 90,
     "metadata": {},
     "output_type": "execute_result"
    }
   ],
   "source": [
    "pred_cat"
   ]
  },
  {
   "cell_type": "code",
   "execution_count": 91,
   "id": "46661882",
   "metadata": {},
   "outputs": [],
   "source": [
    "from sklearn.metrics import accuracy_score"
   ]
  },
  {
   "cell_type": "code",
   "execution_count": 92,
   "id": "f0bd7815",
   "metadata": {},
   "outputs": [
    {
     "data": {
      "text/plain": [
       "0.8567021276595744"
      ]
     },
     "execution_count": 92,
     "metadata": {},
     "output_type": "execute_result"
    }
   ],
   "source": [
    "accuracy_score(test_lab, pred_cat)"
   ]
  },
  {
   "cell_type": "code",
   "execution_count": 93,
   "id": "1263d95f",
   "metadata": {},
   "outputs": [
    {
     "name": "stdout",
     "output_type": "stream",
     "text": [
      "588/588 [==============================] - 2s 3ms/step - loss: 0.4361 - accuracy: 0.8567\n"
     ]
    },
    {
     "data": {
      "text/plain": [
       "[0.4360896944999695, 0.8567021489143372]"
      ]
     },
     "execution_count": 93,
     "metadata": {},
     "output_type": "execute_result"
    }
   ],
   "source": [
    "mod.evaluate(test_img, test_lab_enc)"
   ]
  },
  {
   "cell_type": "markdown",
   "id": "39d19676",
   "metadata": {},
   "source": [
    "# Some generated images as input"
   ]
  },
  {
   "cell_type": "code",
   "execution_count": 95,
   "id": "4b94c53d",
   "metadata": {},
   "outputs": [],
   "source": [
    "from PIL import Image"
   ]
  },
  {
   "cell_type": "code",
   "execution_count": 99,
   "id": "a90f77e9",
   "metadata": {},
   "outputs": [],
   "source": [
    "gen_A = Image.open(\"data/A_a.png\")"
   ]
  },
  {
   "cell_type": "code",
   "execution_count": 100,
   "id": "d4692bc0",
   "metadata": {},
   "outputs": [],
   "source": [
    "gen_A = gen_A.convert(\"1\")"
   ]
  },
  {
   "cell_type": "code",
   "execution_count": 107,
   "id": "7496161a",
   "metadata": {},
   "outputs": [],
   "source": [
    "arr_A = np.asarray(gen_A)"
   ]
  },
  {
   "cell_type": "code",
   "execution_count": 108,
   "id": "5b325e05",
   "metadata": {},
   "outputs": [
    {
     "data": {
      "text/plain": [
       "(28, 28)"
      ]
     },
     "execution_count": 108,
     "metadata": {},
     "output_type": "execute_result"
    }
   ],
   "source": [
    "arr_A.shape"
   ]
  },
  {
   "cell_type": "code",
   "execution_count": 143,
   "id": "778a1a63",
   "metadata": {},
   "outputs": [],
   "source": [
    "#invert arr_A\n",
    "arr_A = (arr_A-255)*-1\n",
    "#reshape and normalize arr_A\n",
    "arr_A = arr_A.reshape((1,28,28,1))/255"
   ]
  },
  {
   "cell_type": "code",
   "execution_count": 144,
   "id": "f5f599cc",
   "metadata": {},
   "outputs": [
    {
     "data": {
      "text/plain": [
       "(1, 28, 28, 1)"
      ]
     },
     "execution_count": 144,
     "metadata": {},
     "output_type": "execute_result"
    }
   ],
   "source": [
    "arr_A.shape"
   ]
  },
  {
   "cell_type": "code",
   "execution_count": 145,
   "id": "fa82243b",
   "metadata": {},
   "outputs": [
    {
     "name": "stdout",
     "output_type": "stream",
     "text": [
      "1/1 [==============================] - 0s 25ms/step\n"
     ]
    }
   ],
   "source": [
    "pred_A = np.argmax(mod.predict(arr_A))"
   ]
  },
  {
   "cell_type": "code",
   "execution_count": 146,
   "id": "e8adcf2e",
   "metadata": {},
   "outputs": [
    {
     "data": {
      "text/plain": [
       "26"
      ]
     },
     "execution_count": 146,
     "metadata": {},
     "output_type": "execute_result"
    }
   ],
   "source": [
    "pred_A"
   ]
  },
  {
   "cell_type": "code",
   "execution_count": 147,
   "id": "d6ae5d55",
   "metadata": {},
   "outputs": [
    {
     "data": {
      "text/plain": [
       "'Q'"
      ]
     },
     "execution_count": 147,
     "metadata": {},
     "output_type": "execute_result"
    }
   ],
   "source": [
    "mapping.loc[26, \"char\"]"
   ]
  },
  {
   "cell_type": "code",
   "execution_count": 148,
   "id": "73a39837",
   "metadata": {},
   "outputs": [
    {
     "name": "stdout",
     "output_type": "stream",
     "text": [
      "1/1 [==============================] - 0s 22ms/step\n"
     ]
    }
   ],
   "source": [
    "pred_A = mod.predict(arr_A)"
   ]
  },
  {
   "cell_type": "code",
   "execution_count": 149,
   "id": "36646fcc",
   "metadata": {},
   "outputs": [
    {
     "data": {
      "text/plain": [
       "array([[6.6326029e-04, 7.4173717e-05, 9.9955389e-05, 2.5656116e-06,\n",
       "        3.5539558e-04, 1.4878850e-03, 2.8916913e-05, 5.6049334e-06,\n",
       "        7.7138175e-03, 2.4833642e-03, 1.1498494e-02, 4.2719394e-02,\n",
       "        8.4145904e-05, 1.9195047e-04, 6.6637723e-03, 1.3358437e-02,\n",
       "        6.7784980e-02, 1.3682491e-04, 1.6739122e-04, 3.7074919e-05,\n",
       "        4.6927115e-04, 3.9303115e-05, 1.6515423e-03, 5.8274221e-05,\n",
       "        3.7435739e-04, 5.2402602e-03, 5.9666514e-01, 3.0310489e-02,\n",
       "        5.4458109e-05, 5.1859015e-06, 3.7092305e-04, 6.1757164e-05,\n",
       "        2.3993629e-04, 1.4829509e-05, 2.3776107e-05, 1.8740768e-05,\n",
       "        2.1675237e-02, 2.1169344e-05, 1.3038841e-03, 8.0926425e-04,\n",
       "        5.4037948e-03, 1.1075840e-01, 2.7548601e-06, 1.3965247e-05,\n",
       "        6.8779275e-02, 4.2606584e-06, 7.2359500e-05]], dtype=float32)"
      ]
     },
     "execution_count": 149,
     "metadata": {},
     "output_type": "execute_result"
    }
   ],
   "source": [
    "pred_A"
   ]
  },
  {
   "cell_type": "code",
   "execution_count": 150,
   "id": "32405826",
   "metadata": {},
   "outputs": [
    {
     "data": {
      "text/plain": [
       "array([6.6326029e-04, 7.4173717e-05, 9.9955389e-05, 2.5656116e-06,\n",
       "       3.5539558e-04, 1.4878850e-03, 2.8916913e-05, 5.6049334e-06,\n",
       "       7.7138175e-03, 2.4833642e-03, 1.1498494e-02, 4.2719394e-02,\n",
       "       8.4145904e-05, 1.9195047e-04, 6.6637723e-03, 1.3358437e-02,\n",
       "       6.7784980e-02, 1.3682491e-04, 1.6739122e-04, 3.7074919e-05,\n",
       "       4.6927115e-04, 3.9303115e-05, 1.6515423e-03, 5.8274221e-05,\n",
       "       3.7435739e-04, 5.2402602e-03, 5.9666514e-01, 3.0310489e-02,\n",
       "       5.4458109e-05, 5.1859015e-06, 3.7092305e-04, 6.1757164e-05,\n",
       "       2.3993629e-04, 1.4829509e-05, 2.3776107e-05, 1.8740768e-05,\n",
       "       2.1675237e-02, 2.1169344e-05, 1.3038841e-03, 8.0926425e-04,\n",
       "       5.4037948e-03, 1.1075840e-01, 2.7548601e-06, 1.3965247e-05,\n",
       "       6.8779275e-02, 4.2606584e-06, 7.2359500e-05], dtype=float32)"
      ]
     },
     "execution_count": 150,
     "metadata": {},
     "output_type": "execute_result"
    }
   ],
   "source": [
    "max(pred_A)"
   ]
  },
  {
   "cell_type": "code",
   "execution_count": 116,
   "id": "1dc6e0d8",
   "metadata": {},
   "outputs": [
    {
     "data": {
      "text/html": [
       "<div>\n",
       "<style scoped>\n",
       "    .dataframe tbody tr th:only-of-type {\n",
       "        vertical-align: middle;\n",
       "    }\n",
       "\n",
       "    .dataframe tbody tr th {\n",
       "        vertical-align: top;\n",
       "    }\n",
       "\n",
       "    .dataframe thead th {\n",
       "        text-align: right;\n",
       "    }\n",
       "</style>\n",
       "<table border=\"1\" class=\"dataframe\">\n",
       "  <thead>\n",
       "    <tr style=\"text-align: right;\">\n",
       "      <th></th>\n",
       "      <th>label</th>\n",
       "      <th>ascii</th>\n",
       "      <th>char</th>\n",
       "    </tr>\n",
       "  </thead>\n",
       "  <tbody>\n",
       "    <tr>\n",
       "      <th>0</th>\n",
       "      <td>0</td>\n",
       "      <td>48</td>\n",
       "      <td>0</td>\n",
       "    </tr>\n",
       "    <tr>\n",
       "      <th>1</th>\n",
       "      <td>1</td>\n",
       "      <td>49</td>\n",
       "      <td>1</td>\n",
       "    </tr>\n",
       "    <tr>\n",
       "      <th>2</th>\n",
       "      <td>2</td>\n",
       "      <td>50</td>\n",
       "      <td>2</td>\n",
       "    </tr>\n",
       "    <tr>\n",
       "      <th>3</th>\n",
       "      <td>3</td>\n",
       "      <td>51</td>\n",
       "      <td>3</td>\n",
       "    </tr>\n",
       "    <tr>\n",
       "      <th>4</th>\n",
       "      <td>4</td>\n",
       "      <td>52</td>\n",
       "      <td>4</td>\n",
       "    </tr>\n",
       "    <tr>\n",
       "      <th>5</th>\n",
       "      <td>5</td>\n",
       "      <td>53</td>\n",
       "      <td>5</td>\n",
       "    </tr>\n",
       "    <tr>\n",
       "      <th>6</th>\n",
       "      <td>6</td>\n",
       "      <td>54</td>\n",
       "      <td>6</td>\n",
       "    </tr>\n",
       "    <tr>\n",
       "      <th>7</th>\n",
       "      <td>7</td>\n",
       "      <td>55</td>\n",
       "      <td>7</td>\n",
       "    </tr>\n",
       "    <tr>\n",
       "      <th>8</th>\n",
       "      <td>8</td>\n",
       "      <td>56</td>\n",
       "      <td>8</td>\n",
       "    </tr>\n",
       "    <tr>\n",
       "      <th>9</th>\n",
       "      <td>9</td>\n",
       "      <td>57</td>\n",
       "      <td>9</td>\n",
       "    </tr>\n",
       "    <tr>\n",
       "      <th>10</th>\n",
       "      <td>10</td>\n",
       "      <td>65</td>\n",
       "      <td>A</td>\n",
       "    </tr>\n",
       "    <tr>\n",
       "      <th>11</th>\n",
       "      <td>11</td>\n",
       "      <td>66</td>\n",
       "      <td>B</td>\n",
       "    </tr>\n",
       "    <tr>\n",
       "      <th>12</th>\n",
       "      <td>12</td>\n",
       "      <td>67</td>\n",
       "      <td>C</td>\n",
       "    </tr>\n",
       "    <tr>\n",
       "      <th>13</th>\n",
       "      <td>13</td>\n",
       "      <td>68</td>\n",
       "      <td>D</td>\n",
       "    </tr>\n",
       "    <tr>\n",
       "      <th>14</th>\n",
       "      <td>14</td>\n",
       "      <td>69</td>\n",
       "      <td>E</td>\n",
       "    </tr>\n",
       "    <tr>\n",
       "      <th>15</th>\n",
       "      <td>15</td>\n",
       "      <td>70</td>\n",
       "      <td>F</td>\n",
       "    </tr>\n",
       "    <tr>\n",
       "      <th>16</th>\n",
       "      <td>16</td>\n",
       "      <td>71</td>\n",
       "      <td>G</td>\n",
       "    </tr>\n",
       "    <tr>\n",
       "      <th>17</th>\n",
       "      <td>17</td>\n",
       "      <td>72</td>\n",
       "      <td>H</td>\n",
       "    </tr>\n",
       "    <tr>\n",
       "      <th>18</th>\n",
       "      <td>18</td>\n",
       "      <td>73</td>\n",
       "      <td>I</td>\n",
       "    </tr>\n",
       "    <tr>\n",
       "      <th>19</th>\n",
       "      <td>19</td>\n",
       "      <td>74</td>\n",
       "      <td>J</td>\n",
       "    </tr>\n",
       "    <tr>\n",
       "      <th>20</th>\n",
       "      <td>20</td>\n",
       "      <td>75</td>\n",
       "      <td>K</td>\n",
       "    </tr>\n",
       "    <tr>\n",
       "      <th>21</th>\n",
       "      <td>21</td>\n",
       "      <td>76</td>\n",
       "      <td>L</td>\n",
       "    </tr>\n",
       "    <tr>\n",
       "      <th>22</th>\n",
       "      <td>22</td>\n",
       "      <td>77</td>\n",
       "      <td>M</td>\n",
       "    </tr>\n",
       "    <tr>\n",
       "      <th>23</th>\n",
       "      <td>23</td>\n",
       "      <td>78</td>\n",
       "      <td>N</td>\n",
       "    </tr>\n",
       "    <tr>\n",
       "      <th>24</th>\n",
       "      <td>24</td>\n",
       "      <td>79</td>\n",
       "      <td>O</td>\n",
       "    </tr>\n",
       "    <tr>\n",
       "      <th>25</th>\n",
       "      <td>25</td>\n",
       "      <td>80</td>\n",
       "      <td>P</td>\n",
       "    </tr>\n",
       "    <tr>\n",
       "      <th>26</th>\n",
       "      <td>26</td>\n",
       "      <td>81</td>\n",
       "      <td>Q</td>\n",
       "    </tr>\n",
       "    <tr>\n",
       "      <th>27</th>\n",
       "      <td>27</td>\n",
       "      <td>82</td>\n",
       "      <td>R</td>\n",
       "    </tr>\n",
       "    <tr>\n",
       "      <th>28</th>\n",
       "      <td>28</td>\n",
       "      <td>83</td>\n",
       "      <td>S</td>\n",
       "    </tr>\n",
       "    <tr>\n",
       "      <th>29</th>\n",
       "      <td>29</td>\n",
       "      <td>84</td>\n",
       "      <td>T</td>\n",
       "    </tr>\n",
       "    <tr>\n",
       "      <th>30</th>\n",
       "      <td>30</td>\n",
       "      <td>85</td>\n",
       "      <td>U</td>\n",
       "    </tr>\n",
       "    <tr>\n",
       "      <th>31</th>\n",
       "      <td>31</td>\n",
       "      <td>86</td>\n",
       "      <td>V</td>\n",
       "    </tr>\n",
       "    <tr>\n",
       "      <th>32</th>\n",
       "      <td>32</td>\n",
       "      <td>87</td>\n",
       "      <td>W</td>\n",
       "    </tr>\n",
       "    <tr>\n",
       "      <th>33</th>\n",
       "      <td>33</td>\n",
       "      <td>88</td>\n",
       "      <td>X</td>\n",
       "    </tr>\n",
       "    <tr>\n",
       "      <th>34</th>\n",
       "      <td>34</td>\n",
       "      <td>89</td>\n",
       "      <td>Y</td>\n",
       "    </tr>\n",
       "    <tr>\n",
       "      <th>35</th>\n",
       "      <td>35</td>\n",
       "      <td>90</td>\n",
       "      <td>Z</td>\n",
       "    </tr>\n",
       "    <tr>\n",
       "      <th>36</th>\n",
       "      <td>36</td>\n",
       "      <td>97</td>\n",
       "      <td>a</td>\n",
       "    </tr>\n",
       "    <tr>\n",
       "      <th>37</th>\n",
       "      <td>37</td>\n",
       "      <td>98</td>\n",
       "      <td>b</td>\n",
       "    </tr>\n",
       "    <tr>\n",
       "      <th>38</th>\n",
       "      <td>38</td>\n",
       "      <td>100</td>\n",
       "      <td>d</td>\n",
       "    </tr>\n",
       "    <tr>\n",
       "      <th>39</th>\n",
       "      <td>39</td>\n",
       "      <td>101</td>\n",
       "      <td>e</td>\n",
       "    </tr>\n",
       "    <tr>\n",
       "      <th>40</th>\n",
       "      <td>40</td>\n",
       "      <td>102</td>\n",
       "      <td>f</td>\n",
       "    </tr>\n",
       "    <tr>\n",
       "      <th>41</th>\n",
       "      <td>41</td>\n",
       "      <td>103</td>\n",
       "      <td>g</td>\n",
       "    </tr>\n",
       "    <tr>\n",
       "      <th>42</th>\n",
       "      <td>42</td>\n",
       "      <td>104</td>\n",
       "      <td>h</td>\n",
       "    </tr>\n",
       "    <tr>\n",
       "      <th>43</th>\n",
       "      <td>43</td>\n",
       "      <td>110</td>\n",
       "      <td>n</td>\n",
       "    </tr>\n",
       "    <tr>\n",
       "      <th>44</th>\n",
       "      <td>44</td>\n",
       "      <td>113</td>\n",
       "      <td>q</td>\n",
       "    </tr>\n",
       "    <tr>\n",
       "      <th>45</th>\n",
       "      <td>45</td>\n",
       "      <td>114</td>\n",
       "      <td>r</td>\n",
       "    </tr>\n",
       "    <tr>\n",
       "      <th>46</th>\n",
       "      <td>46</td>\n",
       "      <td>116</td>\n",
       "      <td>t</td>\n",
       "    </tr>\n",
       "  </tbody>\n",
       "</table>\n",
       "</div>"
      ],
      "text/plain": [
       "    label  ascii char\n",
       "0       0     48    0\n",
       "1       1     49    1\n",
       "2       2     50    2\n",
       "3       3     51    3\n",
       "4       4     52    4\n",
       "5       5     53    5\n",
       "6       6     54    6\n",
       "7       7     55    7\n",
       "8       8     56    8\n",
       "9       9     57    9\n",
       "10     10     65    A\n",
       "11     11     66    B\n",
       "12     12     67    C\n",
       "13     13     68    D\n",
       "14     14     69    E\n",
       "15     15     70    F\n",
       "16     16     71    G\n",
       "17     17     72    H\n",
       "18     18     73    I\n",
       "19     19     74    J\n",
       "20     20     75    K\n",
       "21     21     76    L\n",
       "22     22     77    M\n",
       "23     23     78    N\n",
       "24     24     79    O\n",
       "25     25     80    P\n",
       "26     26     81    Q\n",
       "27     27     82    R\n",
       "28     28     83    S\n",
       "29     29     84    T\n",
       "30     30     85    U\n",
       "31     31     86    V\n",
       "32     32     87    W\n",
       "33     33     88    X\n",
       "34     34     89    Y\n",
       "35     35     90    Z\n",
       "36     36     97    a\n",
       "37     37     98    b\n",
       "38     38    100    d\n",
       "39     39    101    e\n",
       "40     40    102    f\n",
       "41     41    103    g\n",
       "42     42    104    h\n",
       "43     43    110    n\n",
       "44     44    113    q\n",
       "45     45    114    r\n",
       "46     46    116    t"
      ]
     },
     "execution_count": 116,
     "metadata": {},
     "output_type": "execute_result"
    }
   ],
   "source": [
    "mapping"
   ]
  },
  {
   "cell_type": "code",
   "execution_count": 130,
   "id": "dedede4d",
   "metadata": {},
   "outputs": [],
   "source": [
    "gen_U = Image.open(\"data/U_u.png\")\n",
    "gen_U = gen_U.convert(\"L\")"
   ]
  },
  {
   "cell_type": "code",
   "execution_count": 139,
   "id": "f3d20470",
   "metadata": {},
   "outputs": [],
   "source": [
    "arr_U = np.asarray(gen_U)\n",
    "#invert from negative\n",
    "arr_U = (arr_U-255)*-1\n",
    "arr_U = arr_U.reshape((1,28,28,1))/255"
   ]
  },
  {
   "cell_type": "code",
   "execution_count": 140,
   "id": "78b9792b",
   "metadata": {},
   "outputs": [
    {
     "name": "stdout",
     "output_type": "stream",
     "text": [
      "1/1 [==============================] - 0s 31ms/step\n"
     ]
    }
   ],
   "source": [
    "pred_U = mod.predict(arr_U)"
   ]
  },
  {
   "cell_type": "code",
   "execution_count": 141,
   "id": "86c8302c",
   "metadata": {},
   "outputs": [
    {
     "data": {
      "text/plain": [
       "array([[0.00465104, 0.00791541, 0.00672625, 0.00514519, 0.01790562,\n",
       "        0.05489569, 0.013184  , 0.00302058, 0.00458735, 0.00839075,\n",
       "        0.01857927, 0.01972551, 0.0311094 , 0.01827581, 0.08443876,\n",
       "        0.06505007, 0.03752522, 0.01119179, 0.02417816, 0.0465783 ,\n",
       "        0.02473448, 0.02116613, 0.00385549, 0.0021085 , 0.0053416 ,\n",
       "        0.00170545, 0.00905883, 0.0053632 , 0.0367593 , 0.02140038,\n",
       "        0.01352305, 0.0022337 , 0.0437536 , 0.00868644, 0.01236416,\n",
       "        0.02489154, 0.02652222, 0.02470016, 0.00367737, 0.01115843,\n",
       "        0.06296834, 0.03527236, 0.02239707, 0.01119805, 0.01857859,\n",
       "        0.01654105, 0.04696632]], dtype=float32)"
      ]
     },
     "execution_count": 141,
     "metadata": {},
     "output_type": "execute_result"
    }
   ],
   "source": [
    "pred_U"
   ]
  },
  {
   "cell_type": "code",
   "execution_count": 151,
   "id": "e744b4d9",
   "metadata": {},
   "outputs": [
    {
     "data": {
      "text/plain": [
       "(1, 47)"
      ]
     },
     "execution_count": 151,
     "metadata": {},
     "output_type": "execute_result"
    }
   ],
   "source": [
    "pred_U.shape"
   ]
  },
  {
   "cell_type": "code",
   "execution_count": 153,
   "id": "c531e0c6",
   "metadata": {},
   "outputs": [
    {
     "data": {
      "text/plain": [
       "array([14])"
      ]
     },
     "execution_count": 153,
     "metadata": {},
     "output_type": "execute_result"
    }
   ],
   "source": [
    "pred_U.argmax(axis=1)"
   ]
  },
  {
   "cell_type": "code",
   "execution_count": 138,
   "id": "33469ab2",
   "metadata": {},
   "outputs": [
    {
     "data": {
      "text/plain": [
       "<matplotlib.image.AxesImage at 0x7f859c627400>"
      ]
     },
     "execution_count": 138,
     "metadata": {},
     "output_type": "execute_result"
    },
    {
     "data": {
      "image/png": "[encoded data removed]",
      "text/plain": [
       "<Figure size 640x480 with 1 Axes>"
      ]
     },
     "metadata": {},
     "output_type": "display_data"
    }
   ],
   "source": [
    "plt.imshow((arr_U.reshape((28,28))-255)*-1, cmap=\"Greys\")"
   ]
  },
  {
   "cell_type": "code",
   "execution_count": 132,
   "id": "2128bed5",
   "metadata": {},
   "outputs": [
    {
     "data": {
      "text/plain": [
       "<matplotlib.image.AxesImage at 0x7f859d2bfe80>"
      ]
     },
     "execution_count": 132,
     "metadata": {},
     "output_type": "execute_result"
    },
    {
     "data": {
      "image/png": "[encoded data removed]",
      "text/plain": [
       "<Figure size 640x480 with 1 Axes>"
      ]
     },
     "metadata": {},
     "output_type": "display_data"
    }
   ],
   "source": [
    "plt.imshow(arr_U.reshape((28,28)), cmap=\"Greys\")"
   ]
  },
  {
   "cell_type": "code",
   "execution_count": 133,
   "id": "e6921a2c",
   "metadata": {},
   "outputs": [],
   "source": [
    "rgb_A = Image.open(\"data/A_a.png\")"
   ]
  },
  {
   "cell_type": "code",
   "execution_count": 135,
   "id": "4feefced",
   "metadata": {},
   "outputs": [],
   "source": [
    "arr_rgb_A = np.asarray(rgb_A)"
   ]
  },
  {
   "cell_type": "code",
   "execution_count": 136,
   "id": "1fe17fb9",
   "metadata": {},
   "outputs": [
    {
     "data": {
      "text/plain": [
       "(28, 28, 3)"
      ]
     },
     "execution_count": 136,
     "metadata": {},
     "output_type": "execute_result"
    }
   ],
   "source": [
    "arr_rgb_A.shape"
   ]
  },
  {
   "cell_type": "code",
   "execution_count": 137,
   "id": "0ada4831",
   "metadata": {},
   "outputs": [
    {
     "data": {
      "text/plain": [
       "<matplotlib.image.AxesImage at 0x7f859c614f40>"
      ]
     },
     "execution_count": 137,
     "metadata": {},
     "output_type": "execute_result"
    },
    {
     "data": {
      "image/png": "[encoded data removed]",
      "text/plain": [
       "<Figure size 640x480 with 1 Axes>"
      ]
     },
     "metadata": {},
     "output_type": "display_data"
    }
   ],
   "source": [
    "plt.imshow(arr_rgb_A)"
   ]
  },
  {
   "cell_type": "code",
   "execution_count": null,
   "id": "3c150049",
   "metadata": {},
   "outputs": [],
   "source": []
  }
 ],
 "metadata": {
  "kernelspec": {
   "display_name": "Python 3 (ipykernel)",
   "language": "python",
   "name": "python3"
  },
  "language_info": {
   "codemirror_mode": {
    "name": "ipython",
    "version": 3
   },
   "file_extension": ".py",
   "mimetype": "text/x-python",
   "name": "python",
   "nbconvert_exporter": "python",
   "pygments_lexer": "ipython3",
   "version": "3.10.6"
  },
  "toc": {
   "base_numbering": 1,
   "nav_menu": {},
   "number_sections": true,
   "sideBar": true,
   "skip_h1_title": false,
   "title_cell": "Table of Contents",
   "title_sidebar": "Contents",
   "toc_cell": false,
   "toc_position": {},
   "toc_section_display": true,
   "toc_window_display": false
  }
 },
 "nbformat": 4,
 "nbformat_minor": 5
}
